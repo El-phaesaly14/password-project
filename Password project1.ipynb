{
 "cells": [
  {
   "cell_type": "code",
   "execution_count": 1,
   "id": "cab87ecb",
   "metadata": {},
   "outputs": [],
   "source": [
    "import pandas as pd\n",
    "import numpy as np\n",
    "import matplotlib.pyplot as plt\n",
    "\n",
    "%matplotlib inline"
   ]
  },
  {
   "cell_type": "markdown",
   "id": "0298a3a1",
   "metadata": {},
   "source": [
    "Loading the data at a glance:"
   ]
  },
  {
   "cell_type": "code",
   "execution_count": 2,
   "id": "ca34551e",
   "metadata": {},
   "outputs": [],
   "source": [
    "password_dataset = pd.read_csv(r\"C:\\Users\\user\\Desktop\\data\\password strenght\\archive\\passwords.csv\", index_col='rank')"
   ]
  },
  {
   "cell_type": "markdown",
   "id": "8db91e0a",
   "metadata": {},
   "source": [
    "Data exploration"
   ]
  },
  {
   "cell_type": "code",
   "execution_count": 3,
   "id": "dd4f9983",
   "metadata": {},
   "outputs": [
    {
     "data": {
      "text/html": [
       "<div>\n",
       "<style scoped>\n",
       "    .dataframe tbody tr th:only-of-type {\n",
       "        vertical-align: middle;\n",
       "    }\n",
       "\n",
       "    .dataframe tbody tr th {\n",
       "        vertical-align: top;\n",
       "    }\n",
       "\n",
       "    .dataframe thead th {\n",
       "        text-align: right;\n",
       "    }\n",
       "</style>\n",
       "<table border=\"1\" class=\"dataframe\">\n",
       "  <thead>\n",
       "    <tr style=\"text-align: right;\">\n",
       "      <th></th>\n",
       "      <th>password</th>\n",
       "      <th>category</th>\n",
       "      <th>value</th>\n",
       "      <th>time_unit</th>\n",
       "      <th>offline_crack_sec</th>\n",
       "      <th>rank_alt</th>\n",
       "      <th>strength</th>\n",
       "      <th>font_size</th>\n",
       "    </tr>\n",
       "    <tr>\n",
       "      <th>rank</th>\n",
       "      <th></th>\n",
       "      <th></th>\n",
       "      <th></th>\n",
       "      <th></th>\n",
       "      <th></th>\n",
       "      <th></th>\n",
       "      <th></th>\n",
       "      <th></th>\n",
       "    </tr>\n",
       "  </thead>\n",
       "  <tbody>\n",
       "    <tr>\n",
       "      <th>1.0</th>\n",
       "      <td>password</td>\n",
       "      <td>password-related</td>\n",
       "      <td>6.91</td>\n",
       "      <td>years</td>\n",
       "      <td>2.170000e+00</td>\n",
       "      <td>1.0</td>\n",
       "      <td>8.0</td>\n",
       "      <td>11.0</td>\n",
       "    </tr>\n",
       "    <tr>\n",
       "      <th>2.0</th>\n",
       "      <td>123456</td>\n",
       "      <td>simple-alphanumeric</td>\n",
       "      <td>18.52</td>\n",
       "      <td>minutes</td>\n",
       "      <td>1.110000e-05</td>\n",
       "      <td>2.0</td>\n",
       "      <td>4.0</td>\n",
       "      <td>8.0</td>\n",
       "    </tr>\n",
       "    <tr>\n",
       "      <th>3.0</th>\n",
       "      <td>12345678</td>\n",
       "      <td>simple-alphanumeric</td>\n",
       "      <td>1.29</td>\n",
       "      <td>days</td>\n",
       "      <td>1.110000e-03</td>\n",
       "      <td>3.0</td>\n",
       "      <td>4.0</td>\n",
       "      <td>8.0</td>\n",
       "    </tr>\n",
       "    <tr>\n",
       "      <th>4.0</th>\n",
       "      <td>1234</td>\n",
       "      <td>simple-alphanumeric</td>\n",
       "      <td>11.11</td>\n",
       "      <td>seconds</td>\n",
       "      <td>1.110000e-07</td>\n",
       "      <td>4.0</td>\n",
       "      <td>4.0</td>\n",
       "      <td>8.0</td>\n",
       "    </tr>\n",
       "    <tr>\n",
       "      <th>5.0</th>\n",
       "      <td>qwerty</td>\n",
       "      <td>simple-alphanumeric</td>\n",
       "      <td>3.72</td>\n",
       "      <td>days</td>\n",
       "      <td>3.210000e-03</td>\n",
       "      <td>5.0</td>\n",
       "      <td>8.0</td>\n",
       "      <td>11.0</td>\n",
       "    </tr>\n",
       "  </tbody>\n",
       "</table>\n",
       "</div>"
      ],
      "text/plain": [
       "      password             category  value time_unit  offline_crack_sec  \\\n",
       "rank                                                                      \n",
       "1.0   password     password-related   6.91     years       2.170000e+00   \n",
       "2.0     123456  simple-alphanumeric  18.52   minutes       1.110000e-05   \n",
       "3.0   12345678  simple-alphanumeric   1.29      days       1.110000e-03   \n",
       "4.0       1234  simple-alphanumeric  11.11   seconds       1.110000e-07   \n",
       "5.0     qwerty  simple-alphanumeric   3.72      days       3.210000e-03   \n",
       "\n",
       "      rank_alt  strength  font_size  \n",
       "rank                                 \n",
       "1.0        1.0       8.0       11.0  \n",
       "2.0        2.0       4.0        8.0  \n",
       "3.0        3.0       4.0        8.0  \n",
       "4.0        4.0       4.0        8.0  \n",
       "5.0        5.0       8.0       11.0  "
      ]
     },
     "execution_count": 3,
     "metadata": {},
     "output_type": "execute_result"
    }
   ],
   "source": [
    "password_dataset.head()"
   ]
  },
  {
   "cell_type": "code",
   "execution_count": 4,
   "id": "0077fc62",
   "metadata": {},
   "outputs": [
    {
     "name": "stdout",
     "output_type": "stream",
     "text": [
      "<class 'pandas.core.frame.DataFrame'>\n",
      "Float64Index: 507 entries, 1.0 to nan\n",
      "Data columns (total 8 columns):\n",
      " #   Column             Non-Null Count  Dtype  \n",
      "---  ------             --------------  -----  \n",
      " 0   password           500 non-null    object \n",
      " 1   category           500 non-null    object \n",
      " 2   value              500 non-null    float64\n",
      " 3   time_unit          500 non-null    object \n",
      " 4   offline_crack_sec  500 non-null    float64\n",
      " 5   rank_alt           500 non-null    float64\n",
      " 6   strength           500 non-null    float64\n",
      " 7   font_size          500 non-null    float64\n",
      "dtypes: float64(5), object(3)\n",
      "memory usage: 35.6+ KB\n"
     ]
    }
   ],
   "source": [
    "password_dataset.info()"
   ]
  },
  {
   "cell_type": "code",
   "execution_count": 5,
   "id": "eb040919",
   "metadata": {},
   "outputs": [
    {
     "data": {
      "text/plain": [
       "(507, 8)"
      ]
     },
     "execution_count": 5,
     "metadata": {},
     "output_type": "execute_result"
    }
   ],
   "source": [
    "password_dataset.shape"
   ]
  },
  {
   "cell_type": "markdown",
   "id": "0076cc63",
   "metadata": {},
   "source": [
    "Cleaning data and handling inconsistencies:"
   ]
  },
  {
   "cell_type": "code",
   "execution_count": 6,
   "id": "27fac546",
   "metadata": {},
   "outputs": [
    {
     "data": {
      "text/plain": [
       "password             7\n",
       "category             7\n",
       "value                7\n",
       "time_unit            7\n",
       "offline_crack_sec    7\n",
       "rank_alt             7\n",
       "strength             7\n",
       "font_size            7\n",
       "dtype: int64"
      ]
     },
     "execution_count": 6,
     "metadata": {},
     "output_type": "execute_result"
    }
   ],
   "source": [
    "password_dataset.isnull().sum()"
   ]
  },
  {
   "cell_type": "code",
   "execution_count": 7,
   "id": "d0df866e",
   "metadata": {},
   "outputs": [],
   "source": [
    "#Remove rows with missing values\n",
    "\n",
    "password_dataset.dropna(axis=0, how='any', inplace=True)"
   ]
  },
  {
   "cell_type": "code",
   "execution_count": 8,
   "id": "1fea1cac",
   "metadata": {},
   "outputs": [
    {
     "data": {
      "text/plain": [
       "0"
      ]
     },
     "execution_count": 8,
     "metadata": {},
     "output_type": "execute_result"
    }
   ],
   "source": [
    "#Check for duplicate data\n",
    "\n",
    "password_dataset.duplicated().sum()"
   ]
  },
  {
   "cell_type": "markdown",
   "id": "f34846e1",
   "metadata": {},
   "source": [
    "Password strengths analysis and visualizations:"
   ]
  },
  {
   "cell_type": "code",
   "execution_count": 9,
   "id": "a9e159c4",
   "metadata": {},
   "outputs": [
    {
     "name": "stdout",
     "output_type": "stream",
     "text": [
      "count    500.000000\n",
      "mean       7.432000\n",
      "std        5.415536\n",
      "min        0.000000\n",
      "25%        6.000000\n",
      "50%        7.000000\n",
      "75%        8.000000\n",
      "max       48.000000\n",
      "Name: strength, dtype: float64\n"
     ]
    }
   ],
   "source": [
    "#Generate descriptive statistics for the 'strength' column\n",
    "\n",
    "strength_stats = password_dataset['strength'].describe()\n",
    "print(strength_stats)"
   ]
  },
  {
   "cell_type": "code",
   "execution_count": 10,
   "id": "5eeb4a35",
   "metadata": {},
   "outputs": [
    {
     "name": "stdout",
     "output_type": "stream",
     "text": [
      "Number of Weak passwords: 475\n"
     ]
    }
   ],
   "source": [
    "# filter weak passwords whose strenght is less than 10 and count them\n",
    "\n",
    "weak_password = password_dataset[password_dataset['strength'] < 10]\n",
    "weak_password_counts = len(weak_password)\n",
    "print(f\"Number of Weak passwords: {weak_password_counts}\")"
   ]
  },
  {
   "cell_type": "code",
   "execution_count": 11,
   "id": "0389fba9",
   "metadata": {},
   "outputs": [
    {
     "name": "stdout",
     "output_type": "stream",
     "text": [
      "Number of strong passwords: 14\n",
      "............\n",
      "Sample of reliable passwords:\n",
      "rank\n",
      "13.0       abc123\n",
      "26.0     trustno1\n",
      "149.0     ncc1701\n",
      "197.0     thx1138\n",
      "321.0     bond007\n",
      "Name: password, dtype: object\n"
     ]
    }
   ],
   "source": [
    "# filter strong passwords whose strength is more than 10 and count them\n",
    "strong_password = password_dataset[password_dataset['strength'] > 20]\n",
    "strong_password_counts = len(strong_password)\n",
    "print(f\"Number of strong passwords: {strong_password_counts}\")\n",
    "\n",
    "# Display some of these passwords\n",
    "common_strong_passwords = strong_password['password']\n",
    "\n",
    "print('............')\n",
    "print('Sample of reliable passwords:')\n",
    "print(common_strong_passwords.head())"
   ]
  },
  {
   "cell_type": "code",
   "execution_count": 12,
   "id": "4dc93b3c",
   "metadata": {},
   "outputs": [
    {
     "name": "stdout",
     "output_type": "stream",
     "text": [
      "Sample of common weakest_password\n",
      "rank\n",
      "19.0    111111\n",
      "20.0      2000\n",
      "46.0    pepper\n",
      "60.0    666666\n",
      "77.0      1111\n",
      "Name: password, dtype: object\n",
      "......................\n",
      "Number of all password with zero strength:\n",
      "30\n"
     ]
    }
   ],
   "source": [
    "# filter the password with the weakest strength (strength == 0)\n",
    "weakest_password = password_dataset[password_dataset['strength'] == 0]\n",
    "\n",
    "# Display some common weakest passwords\n",
    "common_weakest_password = weakest_password['password']\n",
    "print('Sample of common weakest_password')\n",
    "print(common_weakest_password.head())\n",
    "\n",
    "# Count all weakest passwords\n",
    "print('......................')\n",
    "print(\"Number of all password with zero strength:\")\n",
    "print(len(weakest_password))"
   ]
  },
  {
   "cell_type": "code",
   "execution_count": 13,
   "id": "fccf6445",
   "metadata": {},
   "outputs": [
    {
     "data": {
      "image/png": "[encoded data removed]",
      "text/plain": [
       "<Figure size 1400x600 with 1 Axes>"
      ]
     },
     "metadata": {},
     "output_type": "display_data"
    }
   ],
   "source": [
    "#show a distribution of password strength\n",
    "\n",
    "plt.figure(figsize=(14,6))\n",
    "plt.hist(password_dataset['strength'], color='skyblue')\n",
    "plt.style.use('fivethirtyeight')\n",
    "plt.title('Distribution of Password Strength')\n",
    "plt.xlabel('Strength')\n",
    "plt.show()\n",
    "\n",
    "\n",
    "# This is a histogram to depict the spread of passwords' strength.\n",
    "# it's observable that most of the passwords in this dataset are not strong enough.\n",
    "# because they most strength cluster around 5-10"
   ]
  },
  {
   "cell_type": "code",
   "execution_count": 14,
   "id": "7b0d0346",
   "metadata": {},
   "outputs": [
    {
     "data": {
      "image/png": "[encoded data removed]",
      "text/plain": [
       "<Figure size 1400x600 with 1 Axes>"
      ]
     },
     "metadata": {},
     "output_type": "display_data"
    }
   ],
   "source": [
    "# Detect outliers in the strength of passwords\n",
    "\n",
    "plt.figure(figsize=(14,6))\n",
    "plt.boxplot(password_dataset['strength'])\n",
    "plt.style.use('ggplot')\n",
    "plt.title('Extreme Password Strength')\n",
    "plt.xlabel('Strength')\n",
    "plt.show()\n",
    "\n",
    "\n",
    "# This is a boxplot to spot outliers in the passwords' strength.\n",
    "# the graph shows that some passwords lie beyond the whiskers.\n",
    "# because their strength are either too high or too low.\n",
    "# Therefore, they are considered potential outliers."
   ]
  },
  {
   "cell_type": "markdown",
   "id": "d4806d19",
   "metadata": {},
   "source": [
    "# Category column"
   ]
  },
  {
   "cell_type": "markdown",
   "id": "8379b6d9",
   "metadata": {},
   "source": [
    "perfoming analytical operations on the category column"
   ]
  },
  {
   "cell_type": "code",
   "execution_count": 15,
   "id": "0e6d2249",
   "metadata": {
    "scrolled": true
   },
   "outputs": [
    {
     "name": "stdout",
     "output_type": "stream",
     "text": [
      "Unique Categories:\n",
      "\n",
      " ['password-related' 'simple-alphanumeric' 'animal' 'sport' 'cool-macho'\n",
      " 'name' 'fluffy' 'food' 'nerdy-pop' 'rebellious-rude']\n"
     ]
    }
   ],
   "source": [
    "# Get unique category in the 'category' column\n",
    "unique_categories = password_dataset['category'].unique()\n",
    "print('Unique Categories:')\n",
    "print('\\n',unique_categories)"
   ]
  },
  {
   "cell_type": "code",
   "execution_count": 16,
   "id": "0e80e601",
   "metadata": {},
   "outputs": [
    {
     "name": "stdout",
     "output_type": "stream",
     "text": [
      "passwords in the fluffy category:\n",
      "\n",
      "      password category  value time_unit  offline_crack_sec  rank_alt  \\\n",
      "rank                                                                    \n",
      "42.0      love   fluffy   7.92   minutes           0.000005      42.0   \n",
      "43.0  sunshine   fluffy   6.91     years           2.170000      43.0   \n",
      "54.0    silver   fluffy   3.72      days           0.003210      54.0   \n",
      "63.0    orange   fluffy   3.72      days           0.003210      63.0   \n",
      "70.0    ginger   fluffy   3.72      days           0.003210      70.0   \n",
      "\n",
      "      strength  font_size  \n",
      "rank                       \n",
      "42.0       6.0       10.0  \n",
      "43.0       9.0       12.0  \n",
      "54.0       8.0       11.0  \n",
      "63.0       8.0       11.0  \n",
      "70.0       7.0       11.0  \n"
     ]
    }
   ],
   "source": [
    "#Exemplifying a filter with the 'fluffy' category\n",
    "cat_fluffy = password_dataset['category'] == 'fluffy'\n",
    "fluffy_passwords = password_dataset[cat_fluffy]\n",
    "\n",
    "print('passwords in the fluffy category:\\n')\n",
    "print(fluffy_passwords.head())"
   ]
  },
  {
   "cell_type": "code",
   "execution_count": 17,
   "id": "15f00953",
   "metadata": {},
   "outputs": [
    {
     "name": "stdout",
     "output_type": "stream",
     "text": [
      "Weak Passwords with 'cool-macho' category:\n",
      "      password    category  value time_unit  offline_crack_sec  rank_alt  \\\n",
      "rank                                                                       \n",
      "14.0   mustang  cool-macho   3.19    months            0.08350      14.0   \n",
      "16.0    shadow  cool-macho   3.72      days            0.00321      16.0   \n",
      "17.0    master  cool-macho   3.72      days            0.00321      17.0   \n",
      "23.0    harley  cool-macho   3.72      days            0.00321      23.0   \n",
      "25.0    hunter  cool-macho   3.72      days            0.00321      25.0   \n",
      "...        ...         ...    ...       ...                ...       ...   \n",
      "474.0  playboy  cool-macho   3.19    months            0.08350     476.0   \n",
      "476.0  pumpkin  cool-macho   3.19    months            0.08350     478.0   \n",
      "492.0   sniper  cool-macho   3.72      days            0.00321     494.0   \n",
      "495.0   hotrod  cool-macho   3.72      days            0.00321     497.0   \n",
      "496.0   reddog  cool-macho   3.72      days            0.00321     498.0   \n",
      "\n",
      "       strength  font_size  \n",
      "rank                        \n",
      "14.0        9.0       12.0  \n",
      "16.0        8.0       11.0  \n",
      "17.0        8.0       11.0  \n",
      "23.0        8.0       11.0  \n",
      "25.0        8.0       11.0  \n",
      "...         ...        ...  \n",
      "474.0       8.0       11.0  \n",
      "476.0       8.0       11.0  \n",
      "492.0       8.0       11.0  \n",
      "495.0       7.0       11.0  \n",
      "496.0       6.0       10.0  \n",
      "\n",
      "[76 rows x 8 columns]\n"
     ]
    }
   ],
   "source": [
    "#Checking passwords based on 2 categories: 'category' and 'strength'\n",
    "cat_and_str = (password_dataset['category'] == 'cool-macho') & (password_dataset['strength'] < 10)\n",
    "weak_cool_macho = password_dataset.loc[cat_and_str]\n",
    "\n",
    "print(\"Weak Passwords with 'cool-macho' category:\")\n",
    "print(pd.DataFrame(weak_cool_macho))"
   ]
  },
  {
   "cell_type": "code",
   "execution_count": 18,
   "id": "0c0640aa",
   "metadata": {
    "scrolled": true
   },
   "outputs": [
    {
     "name": "stdout",
     "output_type": "stream",
     "text": [
      "Categories with strong passwords:\n",
      "\n",
      "rank\n",
      "149.0              nerdy-pop\n",
      "197.0              nerdy-pop\n",
      "321.0              nerdy-pop\n",
      "336.0              nerdy-pop\n",
      "359.0              nerdy-pop\n",
      "395.0    simple-alphanumeric\n",
      "478.0    simple-alphanumeric\n",
      "Name: category, dtype: object\n"
     ]
    }
   ],
   "source": [
    "\n",
    "#filter passwords with a strength more than 35 and get their category\n",
    "strong_passwords = password_dataset[password_dataset['strength'] > 35]\n",
    "strong_password_categories = strong_passwords['category']\n",
    "\n",
    "print('Categories with strong passwords:\\n')\n",
    "print(strong_password_categories)\n"
   ]
  },
  {
   "cell_type": "code",
   "execution_count": 19,
   "id": "77585d1b",
   "metadata": {
    "scrolled": true
   },
   "outputs": [
    {
     "name": "stdout",
     "output_type": "stream",
     "text": [
      "categories with the strong password:\n",
      "\n",
      "Counter({'nerdy-pop': 35, 'simple-alphanumeric': 14})\n"
     ]
    }
   ],
   "source": [
    "#Count the category of 'strong passwords' with a strength over 35\n",
    "\n",
    "from collections import Counter\n",
    "\n",
    "strong_counter = Counter()\n",
    "\n",
    "for item in strong_password_categories:\n",
    "    strong_counter.update(strong_password_categories.tolist())\n",
    "    \n",
    "print('categories with the strong password:\\n')\n",
    "print(strong_counter)\n"
   ]
  },
  {
   "cell_type": "markdown",
   "id": "64439927",
   "metadata": {},
   "source": [
    "Visuals of Comparison"
   ]
  },
  {
   "cell_type": "code",
   "execution_count": 20,
   "id": "1a13eb6e",
   "metadata": {},
   "outputs": [
    {
     "data": {
      "image/png": "[encoded data removed]",
      "text/plain": [
       "<Figure size 640x480 with 1 Axes>"
      ]
     },
     "metadata": {},
     "output_type": "display_data"
    }
   ],
   "source": [
    "#Comparing 'nerdy-pop' and 'simple-alphanumeric' categories\n",
    "\n",
    "\n",
    "category_names = [item[0] for item in strong_counter.items()]\n",
    "category_values = [item[1] for item in strong_counter.items()]\n",
    "\n",
    "\n",
    "plt.pie(category_values, labels=category_names, autopct='%1.1f%%', colors=['purple','red'])\n",
    "plt.title('Comparison of categories', loc='center',fontsize=12)\n",
    "plt.tight_layout()\n",
    "plt.style.use('ggplot')\n",
    "plt.grid(True)\n",
    "plt.show()"
   ]
  },
  {
   "cell_type": "code",
   "execution_count": 21,
   "id": "5973cd4e",
   "metadata": {
    "scrolled": true
   },
   "outputs": [
    {
     "name": "stdout",
     "output_type": "stream",
     "text": [
      "categories with weak passwords:\n",
      "\n",
      "simple-alphanumeric    25\n",
      "food                    2\n",
      "fluffy                  1\n",
      "name                    1\n",
      "cool-macho              1\n",
      "Name: category, dtype: int64\n"
     ]
    }
   ],
   "source": [
    "#Filter and count the total 'weak passwords' under each category\n",
    "\n",
    "weak_password = password_dataset[password_dataset['strength'] == 0]\n",
    "weak_password_category = weak_password['category'].value_counts()\n",
    "\n",
    "\n",
    "print('categories with weak passwords:\\n')\n",
    "print(weak_password_category)\n"
   ]
  },
  {
   "cell_type": "code",
   "execution_count": 22,
   "id": "2fb9c120",
   "metadata": {
    "scrolled": false
   },
   "outputs": [
    {
     "data": {
      "image/png": "[encoded data removed]",
      "text/plain": [
       "<Figure size 640x480 with 1 Axes>"
      ]
     },
     "metadata": {},
     "output_type": "display_data"
    }
   ],
   "source": [
    "# Visualizing the distribution of 'weak password category'\n",
    "\n",
    "#splitting the count result into x and y axes\n",
    "x = [item[0] for item in weak_password_category.items()]\n",
    "y = [item[1] for item in weak_password_category.items()]\n",
    "\n",
    "#reverse to order of count to suit an horizontal bar\n",
    "y.reverse()\n",
    "\n",
    "plt.bar(x,y, color='skyblue')\n",
    "plt.ylabel('Categories')\n",
    "plt.xlabel('Total count')\n",
    "plt.title('Category Bar')\n",
    "plt.tight_layout()\n",
    "plt.style.use('fivethirtyeight')\n",
    "\n",
    "plt.show()"
   ]
  },
  {
   "cell_type": "markdown",
   "id": "5794d3fc",
   "metadata": {},
   "source": [
    "# The time range for password cracking"
   ]
  },
  {
   "cell_type": "markdown",
   "id": "47b92a73",
   "metadata": {},
   "source": [
    "Exploring the 'value' and the 'time_unit' columns"
   ]
  },
  {
   "cell_type": "code",
   "execution_count": 23,
   "id": "5753f592",
   "metadata": {},
   "outputs": [
    {
     "name": "stdout",
     "output_type": "stream",
     "text": [
      "Unique values:\n",
      "\n",
      "<bound method Series.unique of rank\n",
      "1.0       6.91\n",
      "2.0      18.52\n",
      "3.0       1.29\n",
      "4.0      11.11\n",
      "5.0       3.72\n",
      "         ...  \n",
      "496.0     3.72\n",
      "497.0     6.91\n",
      "498.0     3.19\n",
      "499.0     3.72\n",
      "500.0    92.27\n",
      "Name: value, Length: 500, dtype: float64>\n"
     ]
    }
   ],
   "source": [
    "#Get unique values in 'value' and 'time_unit' columns\n",
    "#these are the lengths of time it takes to crack a password\n",
    "\n",
    "unique_values = password_dataset['value'].unique\n",
    "\n",
    "#print unique values\n",
    "print('Unique values:\\n')\n",
    "print(unique_values)"
   ]
  },
  {
   "cell_type": "code",
   "execution_count": 24,
   "id": "42dfef20",
   "metadata": {},
   "outputs": [
    {
     "name": "stdout",
     "output_type": "stream",
     "text": [
      "Unique time-units:\n",
      "['years' 'minutes' 'days' 'seconds' 'months' 'weeks' 'hours']\n"
     ]
    }
   ],
   "source": [
    "#Get unique time_unit\n",
    "#this are the ranges of time it takes: (seconds,minutes,hours...)\n",
    "\n",
    "unique_time_unit = password_dataset['time_unit'].unique()\n",
    "\n",
    "print('Unique time-units:')\n",
    "print(unique_time_unit)"
   ]
  },
  {
   "cell_type": "code",
   "execution_count": 25,
   "id": "ebd66b7a",
   "metadata": {},
   "outputs": [
    {
     "name": "stdout",
     "output_type": "stream",
     "text": [
      "some passwords that get cracked in the least time:\n",
      "11.11\n",
      "\n",
      "The time range of the password:\n",
      "\n",
      "rank\n",
      "4.0      seconds\n",
      "20.0     seconds\n",
      "45.0     seconds\n",
      "77.0     seconds\n",
      "277.0    seconds\n",
      "Name: time_unit, dtype: object\n",
      "\n",
      "The total count of passwords:\n",
      "11\n"
     ]
    }
   ],
   "source": [
    "#find and print the minimum values for passwords that can get cracked in seconds\n",
    "\n",
    "crack_in_seconds = password_dataset.loc[password_dataset['time_unit'] == 'seconds', 'value'].min()\n",
    "\n",
    "print('some passwords that get cracked in the least time:')\n",
    "print(crack_in_seconds)\n",
    "\n",
    "#show the range of time of the cracking\n",
    "time_range = password_dataset.loc[(password_dataset['value'] == crack_in_seconds), 'time_unit']\n",
    "\n",
    "print('\\nThe time range of the password:\\n')\n",
    "print(time_range.head())\n",
    "\n",
    "#count how many of the passwords can get cracked in seconds\n",
    "count_seconds = time_range.value_counts().sum()\n",
    "\n",
    "print(\"\\nThe total count of passwords:\")\n",
    "print(count_seconds)"
   ]
  },
  {
   "cell_type": "code",
   "execution_count": 26,
   "id": "933dd0d4",
   "metadata": {},
   "outputs": [
    {
     "name": "stdout",
     "output_type": "stream",
     "text": [
      "The lengths of time for password cracking\n",
      "\n",
      "rank\n",
      "468.0     6.91\n",
      "477.0     6.91\n",
      "478.0     2.56\n",
      "497.0     6.91\n",
      "500.0    92.27\n",
      "Name: value, dtype: float64\n",
      "\n",
      "Total counts:\n",
      "\n",
      "65\n",
      "\n",
      "The range of time:\n",
      "\n",
      "rank\n",
      "1.0     years\n",
      "8.0     years\n",
      "9.0     years\n",
      "18.0    years\n",
      "22.0    years\n",
      "Name: time_unit, dtype: object\n",
      "\n",
      "Over 10 years:\n",
      "\n",
      "rank\n",
      "26.0     92.27\n",
      "336.0    92.27\n",
      "406.0    92.27\n",
      "500.0    92.27\n",
      "Name: value, dtype: float64\n"
     ]
    }
   ],
   "source": [
    "#Get the lengths of time for passwords that can get cracked over years\n",
    "\n",
    "crack_in_years = password_dataset.loc[password_dataset['time_unit'] == 'years', 'value']\n",
    "\n",
    "print('The lengths of time for password cracking\\n')\n",
    "print(crack_in_years.tail())\n",
    "\n",
    "#Total counts of passwords that can get can cracked over the years\n",
    "print('\\nTotal counts:\\n')\n",
    "print(crack_in_years.value_counts().sum())\n",
    "\n",
    "#show the ranges of time equivalent to the above passwords\n",
    "range_of_time = password_dataset.loc[password_dataset['value'].isin(crack_in_years), 'time_unit']\n",
    "\n",
    "print('\\nThe range of time:\\n')\n",
    "print(range_of_time.head())\n",
    "\n",
    "#count the lengths of time that exceed 10 years\n",
    "over_10_years = crack_in_years[crack_in_years > 10]\n",
    "print('\\nOver 10 years:\\n')\n",
    "print(over_10_years)\n"
   ]
  },
  {
   "cell_type": "markdown",
   "id": "4f58a8d3",
   "metadata": {},
   "source": [
    "Comparing top 4 passwords with the same years of crack with their respective Categories and Strengths"
   ]
  },
  {
   "cell_type": "code",
   "execution_count": 56,
   "id": "9277abfb",
   "metadata": {
    "scrolled": false
   },
   "outputs": [
    {
     "data": {
      "image/png": "[encoded data removed]",
      "text/plain": [
       "<Figure size 600x400 with 1 Axes>"
      ]
     },
     "metadata": {},
     "output_type": "display_data"
    }
   ],
   "source": [
    "#find passwords that takes more than 60 years to crack\n",
    "more_than_60 = password_dataset[password_dataset['value'] > 60]\n",
    "\n",
    "#check the category of each password\n",
    "password_category = more_than_60['category']\n",
    "\n",
    "#check the strength of each password\n",
    "password_strength = more_than_60['strength']\n",
    "\n",
    "#check the range of time of each password\n",
    "password_time = more_than_60['value']\n",
    "\n",
    "#initialize the x_axis and the width\n",
    "years = np.arange(len(more_than_60))\n",
    "width = 0.20\n",
    "\n",
    "#create figure and plot bars\n",
    "plt.figure(figsize=(6,4))\n",
    "plt.barh(years-width, password_strength, width, color='skyblue',label='strength')\n",
    "plt.barh(years, password_time, width, color = 'lime', label='years')\n",
    "\n",
    "#set labels and title\n",
    "plt.yticks(ticks=years, labels=password_category, fontsize=10)\n",
    "plt.title('Strengths vs Categories vs Years', fontsize=10, loc='center')\n",
    "plt.ylabel('Category', fontsize=10)\n",
    "\n",
    "#adjust and set style\n",
    "plt.legend(loc='upper right', bbox_to_anchor=(0,0), fontsize=10)\n",
    "plt.style.use('fast')\n",
    "\n",
    "#Add descriptive labels to the bars\n",
    "for index1, strength in enumerate(password_strength):\n",
    "    plt.text(strength + 0.3, index1 - width, str(strength), color='blue', fontsize=10,va='center', fontweight='bold')\n",
    "for index2, time in enumerate(password_time):\n",
    "    plt.text(time + 0.3, index2, str(time), color='green',  va='center', fontsize=10,  fontweight='bold')\n",
    "\n",
    "#render\n",
    "plt.tight_layout()\n",
    "plt.savefig('barh.png')\n",
    "plt.show()\n",
    "\n"
   ]
  },
  {
   "cell_type": "code",
   "execution_count": 28,
   "id": "45b31b09",
   "metadata": {},
   "outputs": [
    {
     "data": {
      "text/plain": [
       "92.27"
      ]
     },
     "execution_count": 28,
     "metadata": {},
     "output_type": "execute_result"
    }
   ],
   "source": [
    "v"
   ]
  },
  {
   "cell_type": "markdown",
   "id": "ecfd59b2",
   "metadata": {},
   "source": [
    "# Font Size Analysis"
   ]
  },
  {
   "cell_type": "markdown",
   "id": "6633e6bf",
   "metadata": {},
   "source": [
    "check the effect of font size on other columns"
   ]
  },
  {
   "cell_type": "code",
   "execution_count": 29,
   "id": "d47ec9c9",
   "metadata": {},
   "outputs": [
    {
     "data": {
      "image/png": "[encoded data removed]",
      "text/plain": [
       "<Figure size 1400x600 with 1 Axes>"
      ]
     },
     "metadata": {},
     "output_type": "display_data"
    }
   ],
   "source": [
    "#filtering passwords with strength greater than 30\n",
    "over_thirty = password_dataset.loc[password_dataset['strength'] > 30, 'strength']\n",
    "\n",
    "#Get the font size of the passwords\n",
    "font_of_over_thirty = password_dataset.loc[over_thirty, 'font_size']\n",
    "\n",
    "#plot a bar chart for font size\n",
    "\n",
    "x = np.arange(len(over_thirty))\n",
    "y = font_of_over_thirty\n",
    "\n",
    "plt.figure(figsize=(14,6))\n",
    "plt.bar(x,y)\n",
    "plt.title('Font Size for Passwords with Strength > 30')\n",
    "plt.xlabel('strength')\n",
    "plt.ylabel('Font Size')\n",
    "plt.grid(True)\n",
    "plt.style.use('fast')\n",
    "plt.tight_layout()\n",
    "plt.show()"
   ]
  },
  {
   "cell_type": "code",
   "execution_count": 30,
   "id": "42992cfd",
   "metadata": {},
   "outputs": [],
   "source": [
    "a = password_dataset['strength'] > 30"
   ]
  },
  {
   "cell_type": "code",
   "execution_count": 31,
   "id": "5c7ead32",
   "metadata": {},
   "outputs": [
    {
     "data": {
      "text/html": [
       "<div>\n",
       "<style scoped>\n",
       "    .dataframe tbody tr th:only-of-type {\n",
       "        vertical-align: middle;\n",
       "    }\n",
       "\n",
       "    .dataframe tbody tr th {\n",
       "        vertical-align: top;\n",
       "    }\n",
       "\n",
       "    .dataframe thead th {\n",
       "        text-align: right;\n",
       "    }\n",
       "</style>\n",
       "<table border=\"1\" class=\"dataframe\">\n",
       "  <thead>\n",
       "    <tr style=\"text-align: right;\">\n",
       "      <th></th>\n",
       "      <th>password</th>\n",
       "      <th>category</th>\n",
       "      <th>value</th>\n",
       "      <th>time_unit</th>\n",
       "      <th>offline_crack_sec</th>\n",
       "      <th>rank_alt</th>\n",
       "      <th>strength</th>\n",
       "      <th>font_size</th>\n",
       "    </tr>\n",
       "    <tr>\n",
       "      <th>rank</th>\n",
       "      <th></th>\n",
       "      <th></th>\n",
       "      <th></th>\n",
       "      <th></th>\n",
       "      <th></th>\n",
       "      <th></th>\n",
       "      <th></th>\n",
       "      <th></th>\n",
       "    </tr>\n",
       "  </thead>\n",
       "  <tbody>\n",
       "    <tr>\n",
       "      <th>13.0</th>\n",
       "      <td>abc123</td>\n",
       "      <td>simple-alphanumeric</td>\n",
       "      <td>3.70</td>\n",
       "      <td>weeks</td>\n",
       "      <td>0.022400</td>\n",
       "      <td>13.0</td>\n",
       "      <td>32.0</td>\n",
       "      <td>23.0</td>\n",
       "    </tr>\n",
       "    <tr>\n",
       "      <th>149.0</th>\n",
       "      <td>ncc1701</td>\n",
       "      <td>nerdy-pop</td>\n",
       "      <td>2.56</td>\n",
       "      <td>years</td>\n",
       "      <td>0.806000</td>\n",
       "      <td>149.0</td>\n",
       "      <td>46.0</td>\n",
       "      <td>27.0</td>\n",
       "    </tr>\n",
       "    <tr>\n",
       "      <th>197.0</th>\n",
       "      <td>thx1138</td>\n",
       "      <td>nerdy-pop</td>\n",
       "      <td>2.56</td>\n",
       "      <td>years</td>\n",
       "      <td>0.806000</td>\n",
       "      <td>198.0</td>\n",
       "      <td>46.0</td>\n",
       "      <td>27.0</td>\n",
       "    </tr>\n",
       "    <tr>\n",
       "      <th>321.0</th>\n",
       "      <td>bond007</td>\n",
       "      <td>nerdy-pop</td>\n",
       "      <td>2.56</td>\n",
       "      <td>years</td>\n",
       "      <td>0.806000</td>\n",
       "      <td>322.0</td>\n",
       "      <td>38.0</td>\n",
       "      <td>25.0</td>\n",
       "    </tr>\n",
       "    <tr>\n",
       "      <th>336.0</th>\n",
       "      <td>rush2112</td>\n",
       "      <td>nerdy-pop</td>\n",
       "      <td>92.27</td>\n",
       "      <td>years</td>\n",
       "      <td>29.020000</td>\n",
       "      <td>337.0</td>\n",
       "      <td>48.0</td>\n",
       "      <td>28.0</td>\n",
       "    </tr>\n",
       "    <tr>\n",
       "      <th>344.0</th>\n",
       "      <td>red123</td>\n",
       "      <td>simple-alphanumeric</td>\n",
       "      <td>3.70</td>\n",
       "      <td>weeks</td>\n",
       "      <td>0.022400</td>\n",
       "      <td>345.0</td>\n",
       "      <td>35.0</td>\n",
       "      <td>24.0</td>\n",
       "    </tr>\n",
       "    <tr>\n",
       "      <th>359.0</th>\n",
       "      <td>ou812</td>\n",
       "      <td>nerdy-pop</td>\n",
       "      <td>17.28</td>\n",
       "      <td>hours</td>\n",
       "      <td>0.000622</td>\n",
       "      <td>360.0</td>\n",
       "      <td>36.0</td>\n",
       "      <td>24.0</td>\n",
       "    </tr>\n",
       "    <tr>\n",
       "      <th>395.0</th>\n",
       "      <td>heka6w2</td>\n",
       "      <td>simple-alphanumeric</td>\n",
       "      <td>2.56</td>\n",
       "      <td>years</td>\n",
       "      <td>0.806000</td>\n",
       "      <td>396.0</td>\n",
       "      <td>36.0</td>\n",
       "      <td>24.0</td>\n",
       "    </tr>\n",
       "    <tr>\n",
       "      <th>406.0</th>\n",
       "      <td>jordan23</td>\n",
       "      <td>sport</td>\n",
       "      <td>92.27</td>\n",
       "      <td>years</td>\n",
       "      <td>29.270000</td>\n",
       "      <td>407.0</td>\n",
       "      <td>34.0</td>\n",
       "      <td>23.0</td>\n",
       "    </tr>\n",
       "    <tr>\n",
       "      <th>463.0</th>\n",
       "      <td>123abc</td>\n",
       "      <td>simple-alphanumeric</td>\n",
       "      <td>3.70</td>\n",
       "      <td>weeks</td>\n",
       "      <td>0.022400</td>\n",
       "      <td>465.0</td>\n",
       "      <td>32.0</td>\n",
       "      <td>23.0</td>\n",
       "    </tr>\n",
       "    <tr>\n",
       "      <th>478.0</th>\n",
       "      <td>test123</td>\n",
       "      <td>simple-alphanumeric</td>\n",
       "      <td>2.56</td>\n",
       "      <td>years</td>\n",
       "      <td>0.806000</td>\n",
       "      <td>480.0</td>\n",
       "      <td>36.0</td>\n",
       "      <td>24.0</td>\n",
       "    </tr>\n",
       "  </tbody>\n",
       "</table>\n",
       "</div>"
      ],
      "text/plain": [
       "       password             category  value time_unit  offline_crack_sec  \\\n",
       "rank                                                                       \n",
       "13.0     abc123  simple-alphanumeric   3.70     weeks           0.022400   \n",
       "149.0   ncc1701            nerdy-pop   2.56     years           0.806000   \n",
       "197.0   thx1138            nerdy-pop   2.56     years           0.806000   \n",
       "321.0   bond007            nerdy-pop   2.56     years           0.806000   \n",
       "336.0  rush2112            nerdy-pop  92.27     years          29.020000   \n",
       "344.0    red123  simple-alphanumeric   3.70     weeks           0.022400   \n",
       "359.0     ou812            nerdy-pop  17.28     hours           0.000622   \n",
       "395.0   heka6w2  simple-alphanumeric   2.56     years           0.806000   \n",
       "406.0  jordan23                sport  92.27     years          29.270000   \n",
       "463.0    123abc  simple-alphanumeric   3.70     weeks           0.022400   \n",
       "478.0   test123  simple-alphanumeric   2.56     years           0.806000   \n",
       "\n",
       "       rank_alt  strength  font_size  \n",
       "rank                                  \n",
       "13.0       13.0      32.0       23.0  \n",
       "149.0     149.0      46.0       27.0  \n",
       "197.0     198.0      46.0       27.0  \n",
       "321.0     322.0      38.0       25.0  \n",
       "336.0     337.0      48.0       28.0  \n",
       "344.0     345.0      35.0       24.0  \n",
       "359.0     360.0      36.0       24.0  \n",
       "395.0     396.0      36.0       24.0  \n",
       "406.0     407.0      34.0       23.0  \n",
       "463.0     465.0      32.0       23.0  \n",
       "478.0     480.0      36.0       24.0  "
      ]
     },
     "execution_count": 31,
     "metadata": {},
     "output_type": "execute_result"
    }
   ],
   "source": [
    "password_dataset[password_dataset['strength'] > 30]"
   ]
  },
  {
   "cell_type": "code",
   "execution_count": 32,
   "id": "0ae21dc8",
   "metadata": {},
   "outputs": [
    {
     "data": {
      "text/plain": [
       "<Axes: xlabel='rank'>"
      ]
     },
     "execution_count": 32,
     "metadata": {},
     "output_type": "execute_result"
    },
    {
     "data": {
      "image/png": "[encoded data removed]",
      "text/plain": [
       "<Figure size 640x480 with 1 Axes>"
      ]
     },
     "metadata": {},
     "output_type": "display_data"
    }
   ],
   "source": [
    "font_of_over_thirty.plot(kind='bar')"
   ]
  },
  {
   "cell_type": "code",
   "execution_count": 33,
   "id": "27294f4e",
   "metadata": {},
   "outputs": [
    {
     "data": {
      "text/plain": [
       "rank\n",
       "32.0    10.0\n",
       "46.0     0.0\n",
       "46.0     0.0\n",
       "38.0    10.0\n",
       "48.0     7.0\n",
       "35.0     7.0\n",
       "36.0    10.0\n",
       "36.0    10.0\n",
       "34.0     8.0\n",
       "32.0    10.0\n",
       "36.0    10.0\n",
       "Name: font_size, dtype: float64"
      ]
     },
     "execution_count": 33,
     "metadata": {},
     "output_type": "execute_result"
    }
   ],
   "source": [
    "font_of_over_thirty"
   ]
  },
  {
   "cell_type": "code",
   "execution_count": 34,
   "id": "c9b7b98b",
   "metadata": {
    "scrolled": false
   },
   "outputs": [
    {
     "data": {
      "text/plain": [
       "rank\n",
       "13.0     32.0\n",
       "149.0    46.0\n",
       "197.0    46.0\n",
       "321.0    38.0\n",
       "336.0    48.0\n",
       "344.0    35.0\n",
       "359.0    36.0\n",
       "395.0    36.0\n",
       "406.0    34.0\n",
       "463.0    32.0\n",
       "478.0    36.0\n",
       "Name: strength, dtype: float64"
      ]
     },
     "execution_count": 34,
     "metadata": {},
     "output_type": "execute_result"
    }
   ],
   "source": [
    "over_thirty"
   ]
  },
  {
   "cell_type": "code",
   "execution_count": 35,
   "id": "fcfdcd99",
   "metadata": {},
   "outputs": [
    {
     "data": {
      "image/png": "[encoded data removed]",
      "text/plain": [
       "<Figure size 1400x700 with 1 Axes>"
      ]
     },
     "metadata": {},
     "output_type": "display_data"
    }
   ],
   "source": [
    "#Creat a scatter plot between 'strength' and 'font_size'\n",
    "\n",
    "plt.figure(figsize=(14,7))\n",
    "plt.scatter(password_dataset['strength'], password_dataset['font_size'], alpha=0.5,)\n",
    "plt.title('Scatter Plot of Strength vs. Font Size')\n",
    "plt.xlabel('Strength', fontsize=12)\n",
    "plt.ylabel('Font Size', fontsize=12)\n",
    "plt.style.use('fast')\n",
    "plt.grid(True)\n",
    "plt.tight_layout()\n",
    "plt.show()"
   ]
  },
  {
   "cell_type": "code",
   "execution_count": 36,
   "id": "1f482866",
   "metadata": {},
   "outputs": [],
   "source": [
    "zero_strength = password_dataset.loc[password_dataset['strength'] == 0, 'font_size']"
   ]
  },
  {
   "cell_type": "code",
   "execution_count": 37,
   "id": "552703b2",
   "metadata": {},
   "outputs": [],
   "source": [
    "password_dataset['re_ranked'] = password_dataset['strength'].rank(method='first', ascending=False).astype(int)"
   ]
  },
  {
   "cell_type": "code",
   "execution_count": 38,
   "id": "3dc80952",
   "metadata": {},
   "outputs": [],
   "source": [
    "password_dataset = password_dataset.sort_values(by='re_ranked', ascending=True)\n",
    "password_dataset = password_dataset.reset_index(drop=True)"
   ]
  },
  {
   "cell_type": "code",
   "execution_count": 39,
   "id": "d00e7df7",
   "metadata": {},
   "outputs": [
    {
     "data": {
      "text/html": [
       "<div>\n",
       "<style scoped>\n",
       "    .dataframe tbody tr th:only-of-type {\n",
       "        vertical-align: middle;\n",
       "    }\n",
       "\n",
       "    .dataframe tbody tr th {\n",
       "        vertical-align: top;\n",
       "    }\n",
       "\n",
       "    .dataframe thead th {\n",
       "        text-align: right;\n",
       "    }\n",
       "</style>\n",
       "<table border=\"1\" class=\"dataframe\">\n",
       "  <thead>\n",
       "    <tr style=\"text-align: right;\">\n",
       "      <th></th>\n",
       "      <th>password</th>\n",
       "      <th>category</th>\n",
       "      <th>value</th>\n",
       "      <th>time_unit</th>\n",
       "      <th>offline_crack_sec</th>\n",
       "      <th>rank_alt</th>\n",
       "      <th>strength</th>\n",
       "      <th>font_size</th>\n",
       "      <th>re_ranked</th>\n",
       "    </tr>\n",
       "  </thead>\n",
       "  <tbody>\n",
       "    <tr>\n",
       "      <th>0</th>\n",
       "      <td>rush2112</td>\n",
       "      <td>nerdy-pop</td>\n",
       "      <td>92.27</td>\n",
       "      <td>years</td>\n",
       "      <td>29.020000</td>\n",
       "      <td>337.0</td>\n",
       "      <td>48.0</td>\n",
       "      <td>28.0</td>\n",
       "      <td>1</td>\n",
       "    </tr>\n",
       "    <tr>\n",
       "      <th>1</th>\n",
       "      <td>ncc1701</td>\n",
       "      <td>nerdy-pop</td>\n",
       "      <td>2.56</td>\n",
       "      <td>years</td>\n",
       "      <td>0.806000</td>\n",
       "      <td>149.0</td>\n",
       "      <td>46.0</td>\n",
       "      <td>27.0</td>\n",
       "      <td>2</td>\n",
       "    </tr>\n",
       "    <tr>\n",
       "      <th>2</th>\n",
       "      <td>thx1138</td>\n",
       "      <td>nerdy-pop</td>\n",
       "      <td>2.56</td>\n",
       "      <td>years</td>\n",
       "      <td>0.806000</td>\n",
       "      <td>198.0</td>\n",
       "      <td>46.0</td>\n",
       "      <td>27.0</td>\n",
       "      <td>3</td>\n",
       "    </tr>\n",
       "    <tr>\n",
       "      <th>3</th>\n",
       "      <td>bond007</td>\n",
       "      <td>nerdy-pop</td>\n",
       "      <td>2.56</td>\n",
       "      <td>years</td>\n",
       "      <td>0.806000</td>\n",
       "      <td>322.0</td>\n",
       "      <td>38.0</td>\n",
       "      <td>25.0</td>\n",
       "      <td>4</td>\n",
       "    </tr>\n",
       "    <tr>\n",
       "      <th>4</th>\n",
       "      <td>ou812</td>\n",
       "      <td>nerdy-pop</td>\n",
       "      <td>17.28</td>\n",
       "      <td>hours</td>\n",
       "      <td>0.000622</td>\n",
       "      <td>360.0</td>\n",
       "      <td>36.0</td>\n",
       "      <td>24.0</td>\n",
       "      <td>5</td>\n",
       "    </tr>\n",
       "    <tr>\n",
       "      <th>...</th>\n",
       "      <td>...</td>\n",
       "      <td>...</td>\n",
       "      <td>...</td>\n",
       "      <td>...</td>\n",
       "      <td>...</td>\n",
       "      <td>...</td>\n",
       "      <td>...</td>\n",
       "      <td>...</td>\n",
       "      <td>...</td>\n",
       "    </tr>\n",
       "    <tr>\n",
       "      <th>495</th>\n",
       "      <td>11111</td>\n",
       "      <td>simple-alphanumeric</td>\n",
       "      <td>1.85</td>\n",
       "      <td>minutes</td>\n",
       "      <td>0.000001</td>\n",
       "      <td>411.0</td>\n",
       "      <td>0.0</td>\n",
       "      <td>0.0</td>\n",
       "      <td>496</td>\n",
       "    </tr>\n",
       "    <tr>\n",
       "      <th>496</th>\n",
       "      <td>999999</td>\n",
       "      <td>simple-alphanumeric</td>\n",
       "      <td>18.52</td>\n",
       "      <td>minutes</td>\n",
       "      <td>0.000011</td>\n",
       "      <td>422.0</td>\n",
       "      <td>0.0</td>\n",
       "      <td>0.0</td>\n",
       "      <td>497</td>\n",
       "    </tr>\n",
       "    <tr>\n",
       "      <th>497</th>\n",
       "      <td>333333</td>\n",
       "      <td>simple-alphanumeric</td>\n",
       "      <td>18.52</td>\n",
       "      <td>minutes</td>\n",
       "      <td>0.000011</td>\n",
       "      <td>461.0</td>\n",
       "      <td>0.0</td>\n",
       "      <td>0.0</td>\n",
       "      <td>498</td>\n",
       "    </tr>\n",
       "    <tr>\n",
       "      <th>498</th>\n",
       "      <td>xxxx</td>\n",
       "      <td>simple-alphanumeric</td>\n",
       "      <td>7.92</td>\n",
       "      <td>minutes</td>\n",
       "      <td>0.000005</td>\n",
       "      <td>475.0</td>\n",
       "      <td>0.0</td>\n",
       "      <td>0.0</td>\n",
       "      <td>499</td>\n",
       "    </tr>\n",
       "    <tr>\n",
       "      <th>499</th>\n",
       "      <td>888888</td>\n",
       "      <td>simple-alphanumeric</td>\n",
       "      <td>18.52</td>\n",
       "      <td>minutes</td>\n",
       "      <td>0.000011</td>\n",
       "      <td>492.0</td>\n",
       "      <td>0.0</td>\n",
       "      <td>0.0</td>\n",
       "      <td>500</td>\n",
       "    </tr>\n",
       "  </tbody>\n",
       "</table>\n",
       "<p>500 rows × 9 columns</p>\n",
       "</div>"
      ],
      "text/plain": [
       "     password             category  value time_unit  offline_crack_sec  \\\n",
       "0    rush2112            nerdy-pop  92.27     years          29.020000   \n",
       "1     ncc1701            nerdy-pop   2.56     years           0.806000   \n",
       "2     thx1138            nerdy-pop   2.56     years           0.806000   \n",
       "3     bond007            nerdy-pop   2.56     years           0.806000   \n",
       "4       ou812            nerdy-pop  17.28     hours           0.000622   \n",
       "..        ...                  ...    ...       ...                ...   \n",
       "495     11111  simple-alphanumeric   1.85   minutes           0.000001   \n",
       "496    999999  simple-alphanumeric  18.52   minutes           0.000011   \n",
       "497    333333  simple-alphanumeric  18.52   minutes           0.000011   \n",
       "498      xxxx  simple-alphanumeric   7.92   minutes           0.000005   \n",
       "499    888888  simple-alphanumeric  18.52   minutes           0.000011   \n",
       "\n",
       "     rank_alt  strength  font_size  re_ranked  \n",
       "0       337.0      48.0       28.0          1  \n",
       "1       149.0      46.0       27.0          2  \n",
       "2       198.0      46.0       27.0          3  \n",
       "3       322.0      38.0       25.0          4  \n",
       "4       360.0      36.0       24.0          5  \n",
       "..        ...       ...        ...        ...  \n",
       "495     411.0       0.0        0.0        496  \n",
       "496     422.0       0.0        0.0        497  \n",
       "497     461.0       0.0        0.0        498  \n",
       "498     475.0       0.0        0.0        499  \n",
       "499     492.0       0.0        0.0        500  \n",
       "\n",
       "[500 rows x 9 columns]"
      ]
     },
     "execution_count": 39,
     "metadata": {},
     "output_type": "execute_result"
    }
   ],
   "source": [
    "password_dataset"
   ]
  },
  {
   "cell_type": "code",
   "execution_count": 40,
   "id": "ef544147",
   "metadata": {},
   "outputs": [],
   "source": [
    "#Drop the rank_alt column\n",
    "\n",
    "password_dataset.drop(columns='rank_alt', inplace=True)"
   ]
  },
  {
   "cell_type": "code",
   "execution_count": 41,
   "id": "77b61241",
   "metadata": {},
   "outputs": [
    {
     "data": {
      "text/html": [
       "<div>\n",
       "<style scoped>\n",
       "    .dataframe tbody tr th:only-of-type {\n",
       "        vertical-align: middle;\n",
       "    }\n",
       "\n",
       "    .dataframe tbody tr th {\n",
       "        vertical-align: top;\n",
       "    }\n",
       "\n",
       "    .dataframe thead th {\n",
       "        text-align: right;\n",
       "    }\n",
       "</style>\n",
       "<table border=\"1\" class=\"dataframe\">\n",
       "  <thead>\n",
       "    <tr style=\"text-align: right;\">\n",
       "      <th></th>\n",
       "      <th>password</th>\n",
       "      <th>category</th>\n",
       "      <th>value</th>\n",
       "      <th>time_unit</th>\n",
       "      <th>offline_crack_sec</th>\n",
       "      <th>strength</th>\n",
       "      <th>font_size</th>\n",
       "      <th>re_ranked</th>\n",
       "    </tr>\n",
       "  </thead>\n",
       "  <tbody>\n",
       "    <tr>\n",
       "      <th>0</th>\n",
       "      <td>rush2112</td>\n",
       "      <td>nerdy-pop</td>\n",
       "      <td>92.27</td>\n",
       "      <td>years</td>\n",
       "      <td>29.020000</td>\n",
       "      <td>48.0</td>\n",
       "      <td>28.0</td>\n",
       "      <td>1</td>\n",
       "    </tr>\n",
       "    <tr>\n",
       "      <th>1</th>\n",
       "      <td>ncc1701</td>\n",
       "      <td>nerdy-pop</td>\n",
       "      <td>2.56</td>\n",
       "      <td>years</td>\n",
       "      <td>0.806000</td>\n",
       "      <td>46.0</td>\n",
       "      <td>27.0</td>\n",
       "      <td>2</td>\n",
       "    </tr>\n",
       "    <tr>\n",
       "      <th>2</th>\n",
       "      <td>thx1138</td>\n",
       "      <td>nerdy-pop</td>\n",
       "      <td>2.56</td>\n",
       "      <td>years</td>\n",
       "      <td>0.806000</td>\n",
       "      <td>46.0</td>\n",
       "      <td>27.0</td>\n",
       "      <td>3</td>\n",
       "    </tr>\n",
       "    <tr>\n",
       "      <th>3</th>\n",
       "      <td>bond007</td>\n",
       "      <td>nerdy-pop</td>\n",
       "      <td>2.56</td>\n",
       "      <td>years</td>\n",
       "      <td>0.806000</td>\n",
       "      <td>38.0</td>\n",
       "      <td>25.0</td>\n",
       "      <td>4</td>\n",
       "    </tr>\n",
       "    <tr>\n",
       "      <th>4</th>\n",
       "      <td>ou812</td>\n",
       "      <td>nerdy-pop</td>\n",
       "      <td>17.28</td>\n",
       "      <td>hours</td>\n",
       "      <td>0.000622</td>\n",
       "      <td>36.0</td>\n",
       "      <td>24.0</td>\n",
       "      <td>5</td>\n",
       "    </tr>\n",
       "    <tr>\n",
       "      <th>...</th>\n",
       "      <td>...</td>\n",
       "      <td>...</td>\n",
       "      <td>...</td>\n",
       "      <td>...</td>\n",
       "      <td>...</td>\n",
       "      <td>...</td>\n",
       "      <td>...</td>\n",
       "      <td>...</td>\n",
       "    </tr>\n",
       "    <tr>\n",
       "      <th>495</th>\n",
       "      <td>11111</td>\n",
       "      <td>simple-alphanumeric</td>\n",
       "      <td>1.85</td>\n",
       "      <td>minutes</td>\n",
       "      <td>0.000001</td>\n",
       "      <td>0.0</td>\n",
       "      <td>0.0</td>\n",
       "      <td>496</td>\n",
       "    </tr>\n",
       "    <tr>\n",
       "      <th>496</th>\n",
       "      <td>999999</td>\n",
       "      <td>simple-alphanumeric</td>\n",
       "      <td>18.52</td>\n",
       "      <td>minutes</td>\n",
       "      <td>0.000011</td>\n",
       "      <td>0.0</td>\n",
       "      <td>0.0</td>\n",
       "      <td>497</td>\n",
       "    </tr>\n",
       "    <tr>\n",
       "      <th>497</th>\n",
       "      <td>333333</td>\n",
       "      <td>simple-alphanumeric</td>\n",
       "      <td>18.52</td>\n",
       "      <td>minutes</td>\n",
       "      <td>0.000011</td>\n",
       "      <td>0.0</td>\n",
       "      <td>0.0</td>\n",
       "      <td>498</td>\n",
       "    </tr>\n",
       "    <tr>\n",
       "      <th>498</th>\n",
       "      <td>xxxx</td>\n",
       "      <td>simple-alphanumeric</td>\n",
       "      <td>7.92</td>\n",
       "      <td>minutes</td>\n",
       "      <td>0.000005</td>\n",
       "      <td>0.0</td>\n",
       "      <td>0.0</td>\n",
       "      <td>499</td>\n",
       "    </tr>\n",
       "    <tr>\n",
       "      <th>499</th>\n",
       "      <td>888888</td>\n",
       "      <td>simple-alphanumeric</td>\n",
       "      <td>18.52</td>\n",
       "      <td>minutes</td>\n",
       "      <td>0.000011</td>\n",
       "      <td>0.0</td>\n",
       "      <td>0.0</td>\n",
       "      <td>500</td>\n",
       "    </tr>\n",
       "  </tbody>\n",
       "</table>\n",
       "<p>500 rows × 8 columns</p>\n",
       "</div>"
      ],
      "text/plain": [
       "     password             category  value time_unit  offline_crack_sec  \\\n",
       "0    rush2112            nerdy-pop  92.27     years          29.020000   \n",
       "1     ncc1701            nerdy-pop   2.56     years           0.806000   \n",
       "2     thx1138            nerdy-pop   2.56     years           0.806000   \n",
       "3     bond007            nerdy-pop   2.56     years           0.806000   \n",
       "4       ou812            nerdy-pop  17.28     hours           0.000622   \n",
       "..        ...                  ...    ...       ...                ...   \n",
       "495     11111  simple-alphanumeric   1.85   minutes           0.000001   \n",
       "496    999999  simple-alphanumeric  18.52   minutes           0.000011   \n",
       "497    333333  simple-alphanumeric  18.52   minutes           0.000011   \n",
       "498      xxxx  simple-alphanumeric   7.92   minutes           0.000005   \n",
       "499    888888  simple-alphanumeric  18.52   minutes           0.000011   \n",
       "\n",
       "     strength  font_size  re_ranked  \n",
       "0        48.0       28.0          1  \n",
       "1        46.0       27.0          2  \n",
       "2        46.0       27.0          3  \n",
       "3        38.0       25.0          4  \n",
       "4        36.0       24.0          5  \n",
       "..        ...        ...        ...  \n",
       "495       0.0        0.0        496  \n",
       "496       0.0        0.0        497  \n",
       "497       0.0        0.0        498  \n",
       "498       0.0        0.0        499  \n",
       "499       0.0        0.0        500  \n",
       "\n",
       "[500 rows x 8 columns]"
      ]
     },
     "execution_count": 41,
     "metadata": {},
     "output_type": "execute_result"
    }
   ],
   "source": [
    "password_dataset"
   ]
  },
  {
   "cell_type": "code",
   "execution_count": 42,
   "id": "1e293584",
   "metadata": {},
   "outputs": [
    {
     "data": {
      "image/png": "[encoded data removed]",
      "text/plain": [
       "<Figure size 640x480 with 1 Axes>"
      ]
     },
     "metadata": {},
     "output_type": "display_data"
    }
   ],
   "source": [
    "x = np.arange(len(password_dataset['strength']))\n",
    "y = password_dataset['strength']\n",
    "\n",
    "plt.plot(x,y )\n",
    "plt.title('Password Strength Line Plot', fontsize=10)\n",
    "plt.xlabel('Number of Users')\n",
    "plt.ylabel('Password Strength')\n",
    "plt.tight_layout()\n",
    "plt.style.use('fast')\n",
    "plt.grid(True)"
   ]
  }
 ],
 "metadata": {
  "kernelspec": {
   "display_name": "Python 3 (ipykernel)",
   "language": "python",
   "name": "python3"
  },
  "language_info": {
   "codemirror_mode": {
    "name": "ipython",
    "version": 3
   },
   "file_extension": ".py",
   "mimetype": "text/x-python",
   "name": "python",
   "nbconvert_exporter": "python",
   "pygments_lexer": "ipython3",
   "version": "3.10.9"
  }
 },
 "nbformat": 4,
 "nbformat_minor": 5
}
